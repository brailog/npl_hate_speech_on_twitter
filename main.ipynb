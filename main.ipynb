{
 "cells": [
  {
   "cell_type": "code",
   "execution_count": 2,
   "id": "tested-click",
   "metadata": {},
   "outputs": [],
   "source": [
    "import tweepy\n",
    "import pandas as pd\n",
    "import numpy as np \n",
    "import nltk"
   ]
  },
  {
   "cell_type": "code",
   "execution_count": 4,
   "id": "subject-newfoundland",
   "metadata": {},
   "outputs": [],
   "source": [
    "auth = tweepy.OAuthHandler(\"-\", \"-\")\n",
    "auth.set_access_token(\"-\", \"-\")\n",
    "\n",
    "API = tweepy.API(auth)"
   ]
  },
  {
   "cell_type": "code",
   "execution_count": 5,
   "id": "filled-ireland",
   "metadata": {},
   "outputs": [
    {
     "data": {
      "text/plain": [
       "<tweepy.api.API at 0x7fb8b41aeb38>"
      ]
     },
     "execution_count": 5,
     "metadata": {},
     "output_type": "execute_result"
    }
   ],
   "source": [
    "API"
   ]
  },
  {
   "cell_type": "code",
   "execution_count": 20,
   "id": "tracked-contamination",
   "metadata": {},
   "outputs": [],
   "source": [
    "out = API.search_30_day(environment_name='dev', query='Testing', maxResults=10)"
   ]
  },
  {
   "cell_type": "code",
   "execution_count": 33,
   "id": "realistic-enlargement",
   "metadata": {
    "scrolled": false
   },
   "outputs": [
    {
     "name": "stdout",
     "output_type": "stream",
     "text": [
      "\n",
      "    Id: 1354939805638012933\n",
      "    \n",
      "    Conteudo texto: RT @LouDobbs: China Joe Biden:  @GordonGChang says Xi Jinping is testing President Biden and it’s clear that China does not respect him #MA…\n",
      "    \n",
      "    Usuario: Mary\n",
      "    Criado em: 2021-01-28 23:49:57\n",
      "    \n",
      "\n",
      "    Id: 1354939798268604417\n",
      "    \n",
      "    Conteudo texto: RT @TayyabaWaqas94: Testing their climbing skills on an abandoned Volvo 😄 🐐 Swainsboro, Georgia. https://t.co/2UbiCvebA2\n",
      "    \n",
      "    Usuario: renato sabia1974\n",
      "    Criado em: 2021-01-28 23:49:56\n",
      "    \n",
      "\n",
      "    Id: 1354939793663266817\n",
      "    \n",
      "    Conteudo texto: RT @OBusybody: Things that haven’t stopped the spread of Covid-19:\n",
      "🇮🇪 Strict lockdowns on an island\n",
      "🇯🇵 Mask wearing\n",
      "🇰🇷 Mask wearing + test…\n",
      "    \n",
      "    Usuario: Joshua Galka\n",
      "    Criado em: 2021-01-28 23:49:55\n",
      "    \n",
      "\n",
      "    Id: 1354939792241385472\n",
      "    \n",
      "    Conteudo texto: RT @ronald_cohn: Very reassuring data on opening schools presented at today’s #COVID19 briefing from the Science Table led by Dr. ⁦⁦@Steini…\n",
      "    \n",
      "    Usuario: Eric Benchimol\n",
      "    Criado em: 2021-01-28 23:49:54\n",
      "    \n",
      "\n",
      "    Id: 1354939791276716033\n",
      "    \n",
      "    Conteudo texto: @Moose_JB There is no life saving research being done on animals... did you know over 90% of studies involving anim… https://t.co/nANoictSac\n",
      "    \n",
      "    Usuario: PETA\n",
      "    Criado em: 2021-01-28 23:49:54\n",
      "    \n",
      "\n",
      "    Id: 1354939783303331845\n",
      "    \n",
      "    Conteudo texto: RT @Manda_AMSBT: OC draws from my break! Bin &amp; Quinnnn (who I was testing new piercings on hehe) https://t.co/3wmtgr5QI6\n",
      "    \n",
      "    Usuario: n é r i u m\n",
      "    Criado em: 2021-01-28 23:49:52\n",
      "    \n",
      "\n",
      "    Id: 1354939779893383168\n",
      "    \n",
      "    Conteudo texto: RT @RanaMed40857794: Going to school will spread coronavirus in Egypt so save Egypt by testing our children online #التقييم_اونلاين\n",
      "\n",
      "#التقي…\n",
      "    \n",
      "    Usuario: hesham1907\n",
      "    Criado em: 2021-01-28 23:49:51\n",
      "    \n",
      "\n",
      "    Id: 1354939771982909441\n",
      "    \n",
      "    Conteudo texto: RT @RogueSoftwares: 🚨HUGE ANNOUNCEMENT🚨\n",
      "\n",
      "After months of rigorous beta testing, the Rogue team is very proud to present...\n",
      "\n",
      "The addition of…\n",
      "    \n",
      "    Usuario: SavageMicDropTTV🧢🚀\n",
      "    Criado em: 2021-01-28 23:49:49\n",
      "    \n",
      "\n",
      "    Id: 1354939763078397955\n",
      "    \n",
      "    Conteudo texto: RT @IshatReza: “Careful” would be actually doing something different like smaller class sizes, better ventilation and increased testing as…\n",
      "    \n",
      "    Usuario: hellene robins\n",
      "    Criado em: 2021-01-28 23:49:47\n",
      "    \n",
      "\n",
      "    Id: 1354939760985387015\n",
      "    \n",
      "    Conteudo texto: RT @Froste: God please stop testing me, I am NOT your strongest soldier I will end it all 😭😭😭😭😭😭😭😭😭😭😭\n",
      "    \n",
      "    Usuario: paul\n",
      "    Criado em: 2021-01-28 23:49:47\n",
      "    \n"
     ]
    }
   ],
   "source": [
    "for t in out:\n",
    "    print(f\"\"\"\n",
    "    Id: {t.id}\n",
    "    \n",
    "    Conteudo texto: {t.text}\n",
    "    \n",
    "    Usuario: {t.user.name}\n",
    "    Criado em: {t.created_at}\n",
    "    \"\"\")"
   ]
  },
  {
   "cell_type": "code",
   "execution_count": 5,
   "id": "reported-jersey",
   "metadata": {},
   "outputs": [],
   "source": [
    "from nltk.corpus import floresta"
   ]
  },
  {
   "cell_type": "code",
   "execution_count": 6,
   "id": "opening-heading",
   "metadata": {},
   "outputs": [
    {
     "data": {
      "text/plain": [
       "<BracketParseCorpusReader in '/home/gabriel/nltk_data/corpora/floresta'>"
      ]
     },
     "execution_count": 6,
     "metadata": {},
     "output_type": "execute_result"
    }
   ],
   "source": [
    "floresta"
   ]
  },
  {
   "cell_type": "code",
   "execution_count": 16,
   "id": "identical-atlantic",
   "metadata": {},
   "outputs": [
    {
     "ename": "AttributeError",
     "evalue": "'BracketParseCorpusReader' object has no attribute 'draw'",
     "output_type": "error",
     "traceback": [
      "\u001b[0;31m---------------------------------------------------------------------------\u001b[0m",
      "\u001b[0;31mAttributeError\u001b[0m                            Traceback (most recent call last)",
      "\u001b[0;32m<ipython-input-16-d911d40d0607>\u001b[0m in \u001b[0;36m<module>\u001b[0;34m\u001b[0m\n\u001b[0;32m----> 1\u001b[0;31m \u001b[0mfloresta\u001b[0m\u001b[0;34m.\u001b[0m\u001b[0mdraw\u001b[0m\u001b[0;34m\u001b[0m\u001b[0;34m\u001b[0m\u001b[0m\n\u001b[0m",
      "\u001b[0;31mAttributeError\u001b[0m: 'BracketParseCorpusReader' object has no attribute 'draw'"
     ]
    }
   ],
   "source": [
    "floresta.draw"
   ]
  },
  {
   "cell_type": "code",
   "execution_count": null,
   "id": "starting-nancy",
   "metadata": {},
   "outputs": [],
   "source": []
  }
 ],
 "metadata": {
  "kernelspec": {
   "display_name": "Python 3",
   "language": "python",
   "name": "python3"
  },
  "language_info": {
   "codemirror_mode": {
    "name": "ipython",
    "version": 3
   },
   "file_extension": ".py",
   "mimetype": "text/x-python",
   "name": "python",
   "nbconvert_exporter": "python",
   "pygments_lexer": "ipython3",
   "version": "3.6.9"
  }
 },
 "nbformat": 4,
 "nbformat_minor": 5
}
