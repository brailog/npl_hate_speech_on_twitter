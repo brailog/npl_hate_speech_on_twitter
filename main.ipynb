{
 "cells": [
  {
   "cell_type": "code",
   "execution_count": 92,
   "id": "tested-click",
   "metadata": {},
   "outputs": [],
   "source": [
    "import tweepy\n",
    "import pandas as pd\n",
    "import numpy as np \n",
    "import re \n",
    "import os\n",
    "import random\n",
    "from sklearn.naive_bayes import MultinomialNB, BernoulliNB\n",
    "from sklearn.linear_model import LogisticRegression, SGDClassifier\n",
    "from sklearn.svm import SVC, LinearSVC, NuSVC\n",
    "from nltk.classify import ClassifierI\n",
    "from nltk.stem import PorterStemmer\n",
    "from sklearn.model_selection import train_test_split\n",
    "import matplotlib.pyplot as plt\n",
    "from statistics import mode\n",
    "from nltk.corpus import stopwords\n",
    "from nltk.tokenize import word_tokenize"
   ]
  },
  {
   "cell_type": "code",
   "execution_count": 93,
   "id": "manual-magic",
   "metadata": {},
   "outputs": [],
   "source": [
    "# Open dataset \n",
    "dataset = pd.read_csv('./resource/labeled_data.csv')\n",
    "# class: 0 - hate speech 1 - offensive language 2 - neither\n",
    "dt_transformed = dataset[['class', 'tweet']]"
   ]
  },
  {
   "cell_type": "code",
   "execution_count": 114,
   "id": "attached-gamma",
   "metadata": {},
   "outputs": [
    {
     "name": "stdout",
     "output_type": "stream",
     "text": [
      "\n",
      "Training table have 21065 rows and 2 column \n",
      "Test table have 3718 rows and 2 column\n",
      "\n"
     ]
    },
    {
     "data": {
      "text/plain": [
       "<AxesSubplot:>"
      ]
     },
     "execution_count": 114,
     "metadata": {},
     "output_type": "execute_result"
    },
    {
     "data": {
      "image/png": "[encoded data removed]",
      "text/plain": [
       "<Figure size 432x288 with 1 Axes>"
      ]
     },
     "metadata": {
      "needs_background": "light"
     },
     "output_type": "display_data"
    }
   ],
   "source": [
    "df_train, df_test = train_test_split(dt_transformed, test_size = 0.15, random_state = 42, stratify=dt_transformed['class'])\n",
    "print(f\"\"\"\n",
    "Training table have {df_train.shape[0]} rows and {df_train.shape[1]} column \n",
    "Test table have {df_test.shape[0]} rows and {df_test.shape[1]} column\n",
    "\"\"\")\n",
    "df_train['class'].value_counts().plot(kind='barh',color='c');df_test['class'].value_counts().plot(kind='barh',color='m')"
   ]
  },
  {
   "cell_type": "code",
   "execution_count": 145,
   "id": "known-lemon",
   "metadata": {},
   "outputs": [],
   "source": [
    "# Preciso fazer um tratamento dos twitters\n",
    "def processing_twitter(data):\n",
    "    all_stopwords = stopwords.words('english')\n",
    "    corpus = []\n",
    "    for t in data:\n",
    "        p_data = re.sub(\"^RT.\", \"\", t)  # removing RTT\n",
    "        p_data = re.sub(\"@[0-9A-za-z:]+\", \"\", p_data)  # removing @user\n",
    "        p_data = re.sub(\"https?://[A-Za-z0-9./&#]+\", \"\", p_data)  # removing http links\n",
    "        p_data = re.sub(\"&#[0-9;]+\", \" \", p_data) # removing emojis\n",
    "        p_data = p_data.lower()\n",
    "        p_data = p_data.split()\n",
    "        ps = PorterStemmer()\n",
    "        p_data = [ps.stem(word) for word in p_data if not word in set(all_stopwords) if len(word) > 2]\n",
    "        p_data = ' '.join(p_data)\n",
    "        print\n",
    "        corpus.append(p_data)\n",
    "        \n",
    "        return np.array(corpus)\n",
    "p_df_train = processing_twitter(df_train['tweet'].values)"
   ]
  },
  {
   "cell_type": "code",
   "execution_count": 148,
   "id": "declared-textbook",
   "metadata": {},
   "outputs": [
    {
     "name": "stdout",
     "output_type": "stream",
     "text": [
      "that' nice color combo too, love blue yellow.\n"
     ]
    },
    {
     "ename": "TypeError",
     "evalue": "len() takes exactly one argument (0 given)",
     "output_type": "error",
     "traceback": [
      "\u001b[0;31m---------------------------------------------------------------------------\u001b[0m",
      "\u001b[0;31mTypeError\u001b[0m                                 Traceback (most recent call last)",
      "\u001b[0;32m<ipython-input-148-d8bf73f94a15>\u001b[0m in \u001b[0;36m<module>\u001b[0;34m\u001b[0m\n\u001b[1;32m      2\u001b[0m     \u001b[0mprint\u001b[0m\u001b[0;34m(\u001b[0m\u001b[0mx\u001b[0m\u001b[0;34m)\u001b[0m\u001b[0;34m\u001b[0m\u001b[0;34m\u001b[0m\u001b[0m\n\u001b[1;32m      3\u001b[0m \u001b[0;34m\u001b[0m\u001b[0m\n\u001b[0;32m----> 4\u001b[0;31m \u001b[0mlen\u001b[0m\u001b[0;34m(\u001b[0m\u001b[0;34m)\u001b[0m\u001b[0;34m\u001b[0m\u001b[0;34m\u001b[0m\u001b[0m\n\u001b[0m",
      "\u001b[0;31mTypeError\u001b[0m: len() takes exactly one argument (0 given)"
     ]
    }
   ],
   "source": [
    "for x in p_df_train:\n",
    "    print(x)\n",
    "    \n",
    "    "
   ]
  },
  {
   "cell_type": "code",
   "execution_count": null,
   "id": "unexpected-blade",
   "metadata": {},
   "outputs": [],
   "source": []
  }
 ],
 "metadata": {
  "kernelspec": {
   "display_name": "Python 3",
   "language": "python",
   "name": "python3"
  },
  "language_info": {
   "codemirror_mode": {
    "name": "ipython",
    "version": 3
   },
   "file_extension": ".py",
   "mimetype": "text/x-python",
   "name": "python",
   "nbconvert_exporter": "python",
   "pygments_lexer": "ipython3",
   "version": "3.6.9"
  }
 },
 "nbformat": 4,
 "nbformat_minor": 5
}
