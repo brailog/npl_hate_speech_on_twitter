{
 "cells": [
  {
   "cell_type": "code",
   "execution_count": 7,
   "id": "tested-click",
   "metadata": {},
   "outputs": [],
   "source": [
    "import tweepy\n",
    "import nltk\n",
    "import pandas as pd\n",
    "import pickle\n",
    "import numpy as np \n",
    "import re \n",
    "import os\n",
    "import random\n",
    "from sklearn.naive_bayes import MultinomialNB, BernoulliNB\n",
    "from nltk.classify.scikitlearn import SklearnClassifier\n",
    "from sklearn.linear_model import LogisticRegression, SGDClassifier\n",
    "from sklearn.svm import SVC, LinearSVC, NuSVC\n",
    "from nltk.classify import ClassifierI\n",
    "from nltk.stem import PorterStemmer\n",
    "from sklearn.model_selection import train_test_split\n",
    "import matplotlib.pyplot as plt\n",
    "from statistics import mode\n",
    "from nltk.corpus import stopwords\n",
    "from nltk.tokenize import word_tokenize"
   ]
  },
  {
   "cell_type": "code",
   "execution_count": 8,
   "id": "secondary-intersection",
   "metadata": {},
   "outputs": [],
   "source": [
    "class VoteClassifier(ClassifierI):\n",
    "    def __init__(self, *classifiers):\n",
    "        self._classifiers = classifiers\n",
    "\n",
    "    def classify(self, features):\n",
    "        votes = []\n",
    "        for c in self._classifiers:\n",
    "            v = c.classify(features)\n",
    "            votes.append(v)\n",
    "        return mode(votes)\n",
    "\n",
    "    def confidence(self, features):\n",
    "        votes = []\n",
    "        for c in self._classifiers:\n",
    "            v = c.classify(features)\n",
    "            votes.append(v)\n",
    "\n",
    "        choice_votes = votes.count(mode(votes))\n",
    "        conf = choice_votes / len(votes)\n",
    "        return conf"
   ]
  },
  {
   "cell_type": "code",
   "execution_count": 9,
   "id": "manual-magic",
   "metadata": {},
   "outputs": [],
   "source": [
    "# Open dataset \n",
    "dataset = pd.read_csv('../resource/labeled_data.csv')\n",
    "# class: 0 - hate speech 1 - offensive language 2 - neither\n",
    "dt_transformed = dataset[['class', 'tweet']]"
   ]
  },
  {
   "cell_type": "code",
   "execution_count": 10,
   "id": "attached-gamma",
   "metadata": {},
   "outputs": [
    {
     "data": {
      "text/plain": [
       "2"
      ]
     },
     "execution_count": 10,
     "metadata": {},
     "output_type": "execute_result"
    }
   ],
   "source": [
    "# df_train, df_test = train_test_split(dt_transformed, test_size = 0.15, random_state = 42, stratify=dt_transformed['class'])\n",
    "# print(f\"\"\"\n",
    "# Training table have {df_train.shape[0]} rows and {df_train.shape[1]} column \n",
    "# Test table have {df_test.shape[0]} rows and {df_test.shape[1]} column\n",
    "# \"\"\")\n",
    "# df_train['class'].value_counts().plot(kind='barh',color='c');df_test['class'].value_counts().plot(kind='barh',color='m')\n",
    "dt_transformed['class'].values[0]"
   ]
  },
  {
   "cell_type": "code",
   "execution_count": 11,
   "id": "brazilian-bargain",
   "metadata": {},
   "outputs": [],
   "source": [
    "all_words = [] \n",
    "documents = [] \n",
    "\n",
    "def processing_text_to_pos_tag(row_table):\n",
    "    all_stopwords = stopwords.words('english')\n",
    "    t_data = re.sub(\"^RT.\", \"\", row_table[1])  # removing RTT\n",
    "    t_data = re.sub(\"@[0-9A-za-z:]+\", \"\", t_data)  # removing @user\n",
    "    t_data = re.sub(\"https?://[A-Za-z0-9./&#]+\", \"\", t_data)  # removing http links\n",
    "    t_data = re.sub(\"&#[0-9;]+\", \" \", t_data) # removing emojis\n",
    "    t_data = t_data.lower()\n",
    "    t_data = t_data.split()\n",
    "    ps = PorterStemmer()\n",
    "    t_data = [ps.stem(word) for word in t_data if not word in set(all_stopwords) if len(word) > 2]\n",
    "    t_data = ' '.join(t_data)\n",
    "    row_table[0] = int(row_table[0])\n",
    "    if row_table[0] == 0:\n",
    "        row_table[0] = 1\n",
    "    return row_table[0], t_data"
   ]
  },
  {
   "cell_type": "code",
   "execution_count": 12,
   "id": "tropical-cleaner",
   "metadata": {},
   "outputs": [],
   "source": [
    "# allowed_word_types = [\"J\"]\n",
    "\n",
    "for row in dt_transformed.values:\n",
    "    c,t = processing_text_to_pos_tag(row)\n",
    "    documents.append( (t,c) )\n",
    "    words = word_tokenize(t)\n",
    "#     pos_t = nltk.pos_tag(words)\n",
    "    for w in words:\n",
    "        all_words.append(w)\n",
    "        \n",
    "save_documents = open(\"../pickled_algos/documents.pickle\",\"wb\")\n",
    "pickle.dump(documents, save_documents)\n",
    "save_documents.close()\n",
    "\n",
    "all_words = nltk.FreqDist(all_words)\n",
    "word_features = list(all_words.keys())[:5000]\n",
    "\n",
    "save_word_features = open(\"../pickled_algos/word_features5k.pickle\",\"wb\")\n",
    "pickle.dump(word_features, save_word_features)\n",
    "save_word_features.close()"
   ]
  },
  {
   "cell_type": "code",
   "execution_count": 13,
   "id": "figured-fitting",
   "metadata": {},
   "outputs": [],
   "source": [
    "def find_features(document):\n",
    "    words = word_tokenize(document)\n",
    "    features = {}\n",
    "    for w in word_features:\n",
    "        features[w] = (w in words)\n",
    "\n",
    "    return features"
   ]
  },
  {
   "cell_type": "code",
   "execution_count": 14,
   "id": "instructional-gazette",
   "metadata": {},
   "outputs": [],
   "source": [
    "featuresets = [(find_features(rev), category) for (rev, category) in documents]"
   ]
  },
  {
   "cell_type": "code",
   "execution_count": 15,
   "id": "initial-collapse",
   "metadata": {},
   "outputs": [],
   "source": [
    "# len(featuresets)\n",
    "testing_set = featuresets[11000:]\n",
    "training_set = featuresets[:11000]"
   ]
  },
  {
   "cell_type": "code",
   "execution_count": 16,
   "id": "coastal-stock",
   "metadata": {},
   "outputs": [
    {
     "name": "stdout",
     "output_type": "stream",
     "text": [
      "Original Naive Bayes Algo accuracy percent: 93.0494086918668\n",
      "MNB_classifier accuracy percent: 92.96234491765219\n",
      "BernoulliNB_classifier accuracy percent: 91.82326053834434\n",
      "LogisticRegression_classifier accuracy percent: 95.5017049989117\n",
      "LinearSVC_classifier accuracy percent: 94.48596096640789\n",
      "SGDClassifier accuracy percent: 95.32757745048248\n"
     ]
    }
   ],
   "source": [
    "classifier = nltk.NaiveBayesClassifier.train(training_set)\n",
    "print(\"Original Naive Bayes Algo accuracy percent:\", (nltk.classify.accuracy(classifier, testing_set))*100)\n",
    "# classifier.show_most_informative_features(15)\n",
    "\n",
    "save_classifier = open(\"../pickled_algos/originalnaivebayes5k.pickle\",\"wb\")\n",
    "pickle.dump(classifier, save_classifier)\n",
    "save_classifier.close()\n",
    "\n",
    "MNB_classifier = SklearnClassifier(MultinomialNB())\n",
    "MNB_classifier.train(training_set)\n",
    "print(\"MNB_classifier accuracy percent:\", (nltk.classify.accuracy(MNB_classifier, testing_set))*100)\n",
    "\n",
    "save_classifier = open(\"../pickled_algos/MNB_classifier5k.pickle\",\"wb\")\n",
    "pickle.dump(MNB_classifier, save_classifier)\n",
    "save_classifier.close()\n",
    "\n",
    "BernoulliNB_classifier = SklearnClassifier(BernoulliNB())\n",
    "BernoulliNB_classifier.train(training_set)\n",
    "print(\"BernoulliNB_classifier accuracy percent:\", (nltk.classify.accuracy(BernoulliNB_classifier, testing_set))*100)\n",
    "\n",
    "save_classifier = open(\"../pickled_algos/BernoulliNB_classifier5k.pickle\",\"wb\")\n",
    "pickle.dump(BernoulliNB_classifier, save_classifier)\n",
    "save_classifier.close()\n",
    "\n",
    "LogisticRegression_classifier = SklearnClassifier(LogisticRegression())\n",
    "LogisticRegression_classifier.train(training_set)\n",
    "print(\"LogisticRegression_classifier accuracy percent:\", (nltk.classify.accuracy(LogisticRegression_classifier, testing_set))*100)\n",
    "\n",
    "save_classifier = open(\"../pickled_algos/LogisticRegression_classifier5k.pickle\",\"wb\")\n",
    "pickle.dump(LogisticRegression_classifier, save_classifier)\n",
    "save_classifier.close()\n",
    "\n",
    "LinearSVC_classifier = SklearnClassifier(LinearSVC())\n",
    "LinearSVC_classifier.train(training_set)\n",
    "print(\"LinearSVC_classifier accuracy percent:\", (nltk.classify.accuracy(LinearSVC_classifier, testing_set))*100)\n",
    "\n",
    "save_classifier = open(\"../pickled_algos/LinearSVC_classifier5k.pickle\",\"wb\")\n",
    "pickle.dump(LinearSVC_classifier, save_classifier)\n",
    "save_classifier.close()\n",
    "\n",
    "SGDC_classifier = SklearnClassifier(SGDClassifier())\n",
    "SGDC_classifier.train(training_set)\n",
    "print(\"SGDClassifier accuracy percent:\",nltk.classify.accuracy(SGDC_classifier, testing_set)*100)\n",
    "\n",
    "save_classifier = open(\"../pickled_algos/SGDC_classifier5k.pickle\",\"wb\")\n",
    "pickle.dump(SGDC_classifier, save_classifier)\n",
    "save_classifier.close()"
   ]
  },
  {
   "cell_type": "code",
   "execution_count": 17,
   "id": "seasonal-roots",
   "metadata": {},
   "outputs": [],
   "source": [
    "voted_classifier = VoteClassifier(\n",
    "                                  classifier,\n",
    "                                  LinearSVC_classifier,\n",
    "                                  MNB_classifier,\n",
    "                                  BernoulliNB_classifier,\n",
    "                                  LogisticRegression_classifier)"
   ]
  },
  {
   "cell_type": "code",
   "execution_count": 36,
   "id": "little-zoning",
   "metadata": {},
   "outputs": [],
   "source": [
    "text_ = ' '\n",
    "def out(text):\n",
    "    feats = find_features(text)\n",
    "    return voted_classifier.classify(feats),voted_classifier.confidence(feats)\n",
    "\n",
    "# c,cc = out(text_)\n",
    "# if cc <= 0.8:\n",
    "#     print('Sem certeza')\n",
    "# else:\n",
    "#     if c == 1:\n",
    "#         print('Discurso de odio ou ofensiva')\n",
    "#     else:\n",
    "#         print('Normal')"
   ]
  },
  {
   "cell_type": "code",
   "execution_count": null,
   "id": "wired-candle",
   "metadata": {},
   "outputs": [],
   "source": []
  }
 ],
 "metadata": {
  "kernelspec": {
   "display_name": "Python 3",
   "language": "python",
   "name": "python3"
  },
  "language_info": {
   "codemirror_mode": {
    "name": "ipython",
    "version": 3
   },
   "file_extension": ".py",
   "mimetype": "text/x-python",
   "name": "python",
   "nbconvert_exporter": "python",
   "pygments_lexer": "ipython3",
   "version": "3.6.9"
  }
 },
 "nbformat": 4,
 "nbformat_minor": 5
}
